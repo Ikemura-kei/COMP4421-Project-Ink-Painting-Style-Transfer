{
 "cells": [
  {
   "cell_type": "code",
   "execution_count": null,
   "source": [
    "from os import listdir\r\n",
    "from numpy import asarray\r\n",
    "from numpy import vstack\r\n",
    "from keras.preprocessing.image import img_to_array\r\n",
    "from keras.preprocessing.image import load_img\r\n",
    "from numpy import savez_compressed\r\n",
    " \r\n",
    "# load all images in a directory into memory\r\n",
    "def load_images(path, size=(256,512)):\r\n",
    "\tsrc_list, tar_list = list(), list()\r\n",
    "\t# enumerate filenames in directory, assume all are images\r\n",
    "\tfor filename in listdir(path):\r\n",
    "\t\t# load and resize the image\r\n",
    "\t\tpixels = load_img(path + filename, target_size=size)\r\n",
    "\t\t# convert to numpy array\r\n",
    "\t\tpixels = img_to_array(pixels)\r\n",
    "\t\t# split into satellite and map\r\n",
    "\t\tsat_img, map_img = pixels[:, :256], pixels[:, 256:]\r\n",
    "\t\tsrc_list.append(sat_img)\r\n",
    "\t\ttar_list.append(map_img)\r\n",
    "\treturn [asarray(src_list), asarray(tar_list)]\r\n",
    " \r\n",
    "# dataset path\r\n",
    "path = 'maps/train/'\r\n",
    "# load dataset\r\n",
    "[src_images, tar_images] = load_images(path)\r\n",
    "print('Loaded: ', src_images.shape, tar_images.shape)\r\n",
    "# save as compressed numpy array\r\n",
    "filename = 'maps_256.npz'\r\n",
    "savez_compressed(filename, src_images, tar_images)\r\n",
    "print('Saved dataset: ', filename)"
   ],
   "outputs": [],
   "metadata": {}
  }
 ],
 "metadata": {
  "orig_nbformat": 4,
  "language_info": {
   "name": "python"
  }
 },
 "nbformat": 4,
 "nbformat_minor": 2
}